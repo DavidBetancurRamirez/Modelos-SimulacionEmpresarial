{
 "cells": [
  {
   "cell_type": "markdown",
   "metadata": {},
   "source": [
    "## 1.1 Usando rv_histogram de scipy.stats"
   ]
  },
  {
   "cell_type": "markdown",
   "metadata": {},
   "source": [
    "**rv_histogram** permite modelas la distribucion empirica de los datos a partir de un histograma"
   ]
  },
  {
   "cell_type": "markdown",
   "metadata": {},
   "source": [
    "### Pasos"
   ]
  },
  {
   "cell_type": "code",
   "execution_count": 10,
   "metadata": {},
   "outputs": [],
   "source": [
    "import numpy as np\n",
    "import matplotlib.pyplot as plt\n",
    "from scipy.stats import rv_histogram\n",
    "import pandas as pd"
   ]
  },
  {
   "cell_type": "markdown",
   "metadata": {},
   "source": [
    "2. Generar o cargar un conjunto de datos"
   ]
  },
  {
   "cell_type": "code",
   "execution_count": 11,
   "metadata": {},
   "outputs": [],
   "source": [
    "df = pd.read_excel('./data/Datos1.xlsx')\n",
    "data = df['Datos']"
   ]
  },
  {
   "cell_type": "markdown",
   "metadata": {},
   "source": [
    "3. Crear un histograma y ajustar **rv_histogram**"
   ]
  },
  {
   "cell_type": "code",
   "execution_count": 14,
   "metadata": {},
   "outputs": [
    {
     "name": "stdout",
     "output_type": "stream",
     "text": [
      "Probabilidad acumulada: 0.41035335689045943\n",
      "Media: 17.726857142857142\n",
      "Desviación estándar: 15.96991686516471\n",
      "Densidad de probabilidad (8.0): 0.05194346289752651\n",
      "Densidad de probabilidad (0.5): 0.05194346289752651\n",
      "Media, varianza, asimetría y curtosis: (np.float64(17.726857142857142), np.float64(255.03824468027221), np.float64(0.9056434704687921), np.float64(-0.4176272980147262))\n",
      "Varianza: 0.9056434704687921\n",
      "Media (momento 1): 17.726857142857142\n"
     ]
    }
   ],
   "source": [
    "# Crear histograma\n",
    "hist = np.histogram(data, bins=\"sturges\", density=True)\n",
    "\n",
    "# Ajustar el histograma a una distribución\n",
    "hist_dist = rv_histogram(hist)\n",
    "\n",
    "print('Probabilidad acumulada:', hist_dist.cdf(8.0))\n",
    "print('Media:', hist_dist.mean())\n",
    "print('Desviación estándar:', hist_dist.std())\n",
    "print('Densidad de probabilidad (8.0):', hist_dist.pdf(8.0))\n",
    "print('Densidad de probabilidad (0.5):', hist_dist.pdf(0.5))\n",
    "print('Media, varianza, asimetría y curtosis:', hist_dist.stats(moments='mvsk'))\n",
    "print('Varianza:', hist_dist.stats(moments='s'))\n",
    "print('Media (momento 1):', hist_dist.moment(1))"
   ]
  },
  {
   "cell_type": "markdown",
   "metadata": {},
   "source": [
    "4. Generar nuevos datos a partir de la distribucion empirica"
   ]
  },
  {
   "cell_type": "code",
   "execution_count": null,
   "metadata": {},
   "outputs": [],
   "source": [
    "new_sample = hist_dist.rvs(size=10)\n",
    "print(new_sample)"
   ]
  }
 ],
 "metadata": {
  "kernelspec": {
   "display_name": "myse",
   "language": "python",
   "name": "python3"
  },
  "language_info": {
   "codemirror_mode": {
    "name": "ipython",
    "version": 3
   },
   "file_extension": ".py",
   "mimetype": "text/x-python",
   "name": "python",
   "nbconvert_exporter": "python",
   "pygments_lexer": "ipython3",
   "version": "3.12.6"
  }
 },
 "nbformat": 4,
 "nbformat_minor": 2
}
