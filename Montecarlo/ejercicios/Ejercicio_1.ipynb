{
 "cells": [
  {
   "cell_type": "markdown",
   "metadata": {},
   "source": [
    "## <center> Ejercicio 1 </center>\n",
    "Marty Ford es analista de operaciones de Piedmont Commuter Airlines (PCA). Recientemente, le pidieron a Marty que hiciera una recomendación sobre cuántas reservas debería hacer PCA para el vuelo 343, un vuelo desde un pequeño aeropuerto regional en Nueva Inglaterra a un importante centro de operaciones en el aeropuerto Logan de Boston. El avión utilizado en el vuelo 343 es un pequeño turbohélice bimotor con 19 asientos disponibles para pasajeros. PCA vende boletos no reembolsables para el vuelo 343 a $150 por asiento.\n",
    "\n",
    "Las estadísticas del sector muestran que por cada tiquete vendido para un vuelo interurbano, existe una probabilidad de 0.10 de que el titular del tiquete no esté en el vuelo. Por tanto, si PCA vende 19 billetes para este vuelo, hay una probabilidad bastante buena de que uno o más asientos del avión estén vacíos. Por supuesto, los asientos vacíos representan una pérdida de ingresos potenciales para la empresa. Por otro lado, si PCA realiza una sobreventa de billetes para este vuelo y se presentan más de 19 pasajeros, algunos de ellos tendrán que ser trasladados a un vuelo posterior.\n",
    "\n",
    "Para compensar la incomodidad de ser rechazados, PCA les da a estos pasajeros vales para una comida gratis, un vuelo gratis en una fecha posterior y, a veces, también les paga para que pasen la noche en un hotel cerca del aeropuerto. PCA paga un promedio de $325 (incluido el costo de la pérdida de prestigio) por cada pasajero que se queda sin pasaje. Marty quiere determinar si PCA puede aumentar las ganancias mediante la sobreventa de este vuelo y, de ser así, cuántas reservas se deben aceptar para producir el máximo beneficio promedio. Para ayudar en el análisis, Marty analizó los datos de investigación de mercado para este vuelo que revelan la siguiente distribución de probabilidad de la demanda para este vuelo:\n",
    "\n",
    "| Demanda | 14  | 15  | 16  | 17  | 18  | 19  | 20  | 21  | 22  | 23  | 24  | 25  |\n",
    "|:--------------:|:---:|:---:|:---:|:---:|:---:|:---:|:---:|:---:|:---:|:---:|:---:|:---:|\n",
    "| Probabilidad   | 0.03 | 0.05 | 0.07 | 0.09 | 0.11 | 0.15 | 0.18 | 0.14 | 0.08 | 0.05 | 0.03 | 0.02 |\n"
   ]
  },
  {
   "cell_type": "markdown",
   "metadata": {},
   "source": [
    "### 1. Librerias necesarias"
   ]
  },
  {
   "cell_type": "code",
   "execution_count": 1,
   "metadata": {},
   "outputs": [],
   "source": [
    "import numpy as np\n",
    "import pandas as pd\n",
    "import matplotlib.pyplot as plt\n",
    "import seaborn as sns\n",
    "from scipy.stats import rv_discrete, rv_histogram, binom\n",
    "from statsmodels.distributions.empirical_distribution import ECDF"
   ]
  },
  {
   "cell_type": "markdown",
   "metadata": {},
   "source": [
    "### 2. Entradas conocidas"
   ]
  },
  {
   "cell_type": "code",
   "execution_count": 2,
   "metadata": {},
   "outputs": [],
   "source": [
    "nro_sillas = 19\n",
    "precio_silla = 150\n",
    "costo_rechazo = 325\n",
    "prob_no_presentarse = 0.10\n",
    "demanda = list(range(14, 26))\n",
    "prob_demanda = [0.03, 0.05, 0.07, 0.09, 0.11, 0.15, 0.18, 0.14, 0.08, 0.05, 0.03, 0.02]\n",
    "trials = 20000"
   ]
  },
  {
   "cell_type": "markdown",
   "metadata": {},
   "source": [
    "### 3. Variables de decisión"
   ]
  },
  {
   "cell_type": "code",
   "execution_count": 3,
   "metadata": {},
   "outputs": [],
   "source": [
    "reservas_aceptadas = list(range(19, 26))"
   ]
  },
  {
   "cell_type": "markdown",
   "metadata": {},
   "source": [
    "### 4. Entradas inciertas"
   ]
  },
  {
   "cell_type": "code",
   "execution_count": 4,
   "metadata": {},
   "outputs": [],
   "source": [
    "demanda_sillas = rv_discrete(name='Demanda', values=(demanda, prob_demanda))"
   ]
  },
  {
   "cell_type": "markdown",
   "metadata": {},
   "source": [
    "### 5. Cálculos intermedios"
   ]
  },
  {
   "cell_type": "code",
   "execution_count": 5,
   "metadata": {},
   "outputs": [],
   "source": [
    "resultados = []\n",
    "\n",
    "for reserva in reservas_aceptadas:\n",
    "  beneficio = []\n",
    "  for _ in range(trials):\n",
    "    demanda_realizada = demanda_sillas.rvs()\n",
    "    sillas_vendidas = min(reserva, demanda_realizada)\n",
    "    pasajeros_presentes = binom.rvs(sillas_vendidas, 1 - prob_no_presentarse)\n",
    "    ingreso = sillas_vendidas * precio_silla\n",
    "    costo_pas_rechazados = max(0, pasajeros_presentes - nro_sillas) * costo_rechazo\n",
    "\n",
    "    beneficio.append(ingreso - costo_pas_rechazados)\n",
    "\n",
    "  resultados.append({\n",
    "    'Reservas Aceptadas': reserva,\n",
    "    'Minimo': np.min(beneficio),\n",
    "    'Percentil 20': np.percentile(beneficio, 20),\n",
    "    'Media': np.mean(beneficio),\n",
    "    'Percentil 80': np.percentile(beneficio, 80),\n",
    "    'Maximo': np.max(beneficio),\n",
    "  })"
   ]
  },
  {
   "cell_type": "markdown",
   "metadata": {},
   "source": [
    "### 6. Salidas"
   ]
  },
  {
   "cell_type": "code",
   "execution_count": 6,
   "metadata": {},
   "outputs": [
    {
     "name": "stdout",
     "output_type": "stream",
     "text": [
      "   Reservas Aceptadas  Minimo  Percentil 20       Media  Percentil 80  Maximo\n",
      "0                  19    2100        2550.0  2723.14500        2850.0    2850\n",
      "1                  20    2100        2550.0  2779.88125        3000.0    3000\n",
      "2                  21    2100        2550.0  2789.54250        3150.0    3150\n",
      "3                  22    2100        2550.0  2784.44125        3000.0    3300\n",
      "4                  23    2100        2500.0  2770.62750        3000.0    3450\n",
      "5                  24    1975        2500.0  2767.29125        3000.0    3600\n",
      "6                  25    1800        2500.0  2762.89125        3000.0    3750\n"
     ]
    }
   ],
   "source": [
    "# Crear un DataFrame con los resultados\n",
    "df_resultados = pd.DataFrame(resultados)\n",
    "\n",
    "# Mostrar los resultados\n",
    "print(df_resultados)"
   ]
  },
  {
   "cell_type": "code",
   "execution_count": null,
   "metadata": {},
   "outputs": [],
   "source": [
    "# Crear el grafico\n"
   ]
  }
 ],
 "metadata": {
  "kernelspec": {
   "display_name": "myse_env",
   "language": "python",
   "name": "python3"
  },
  "language_info": {
   "codemirror_mode": {
    "name": "ipython",
    "version": 3
   },
   "file_extension": ".py",
   "mimetype": "text/x-python",
   "name": "python",
   "nbconvert_exporter": "python",
   "pygments_lexer": "ipython3",
   "version": "3.12.6"
  }
 },
 "nbformat": 4,
 "nbformat_minor": 2
}
