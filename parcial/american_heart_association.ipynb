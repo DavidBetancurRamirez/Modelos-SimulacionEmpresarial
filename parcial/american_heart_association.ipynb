{
 "cells": [
  {
   "cell_type": "markdown",
   "metadata": {},
   "source": [
    "# <center> Modelo para American Heart Association </center>\n",
    "\n",
    "Representantes de la American Heart Association planean ir de puerta en puerta por toda la comunidad, solicitando contribuciones. Por experiencias pasadas, saben que cuando alguien abre la puerta, el 80% de las veces es una mujer y el 20% de las veces es un hombre. También saben que el 70% de las mujeres que abren la puerta hacen una donación, mientras que solo el 40% de los hombres que abren la puerta hacen donaciones. La cantidad de dinero que aportan las mujeres sigue una distribución normal con una media de $20 y una desviación estándar de $3. La cantidad de dinero que aportan los hombres sigue una distribución normal con una media de $10 y una desviación estándar de $2."
   ]
  },
  {
   "cell_type": "markdown",
   "metadata": {},
   "source": [
    "## 1. Librerias necesarias"
   ]
  },
  {
   "cell_type": "code",
   "execution_count": null,
   "metadata": {},
   "outputs": [],
   "source": [
    "from scipy.stats import norm\n",
    "import matplotlib.pyplot as plt\n",
    "import numpy as np\n",
    "from random import random"
   ]
  },
  {
   "cell_type": "markdown",
   "metadata": {},
   "source": [
    "## 2. Entradas conocidas"
   ]
  },
  {
   "cell_type": "code",
   "execution_count": 67,
   "metadata": {},
   "outputs": [],
   "source": [
    "abre_puerta_mujer = 0.8\n",
    "abre_puerta_hombre = 1 - abre_puerta_mujer\n",
    "\n",
    "p_aporte_mujer = 0.7\n",
    "p_aporte_hombre = 0.4"
   ]
  },
  {
   "cell_type": "markdown",
   "metadata": {},
   "source": [
    "Distribuciones de la cantidad de dinero que aportan"
   ]
  },
  {
   "cell_type": "code",
   "execution_count": 68,
   "metadata": {},
   "outputs": [],
   "source": [
    "# [Media, Desviacion estandar]\n",
    "aporte_mujer = [20, 3]\n",
    "aporte_hombre = [10, 2]"
   ]
  },
  {
   "cell_type": "markdown",
   "metadata": {},
   "source": [
    "## 3. Variables de Decisión\n",
    "En este modelo particular no hacemos uso de estas variables"
   ]
  },
  {
   "cell_type": "markdown",
   "metadata": {},
   "source": [
    "## 4. Entradas inciertas"
   ]
  },
  {
   "cell_type": "code",
   "execution_count": 69,
   "metadata": {},
   "outputs": [],
   "source": [
    "# Distribucion de la cantidad de personas que donan\n",
    "donacion_mujer = norm(aporte_mujer[0], aporte_mujer[1])\n",
    "donacion_hombre = norm(aporte_hombre[0], aporte_hombre[1])"
   ]
  },
  {
   "cell_type": "markdown",
   "metadata": {},
   "source": [
    "## 5. Cálculos intermedios"
   ]
  },
  {
   "cell_type": "code",
   "execution_count": 70,
   "metadata": {},
   "outputs": [],
   "source": [
    "def redondear(x):\n",
    "  return round(x, 2)"
   ]
  },
  {
   "cell_type": "code",
   "execution_count": 71,
   "metadata": {},
   "outputs": [],
   "source": [
    "simulaciones = 100000\n",
    "donaciones = []\n",
    "\n",
    "for i in range(simulaciones):\n",
    "  donacion = 0\n",
    "\n",
    "  if random() < abre_puerta_mujer:\n",
    "    # Mujer abre la puerta\n",
    "    if random() < p_aporte_mujer:\n",
    "      donacion = donacion_mujer.rvs()\n",
    "\n",
    "  else:\n",
    "    # Hombre abre la puerta\n",
    "    if random() < p_aporte_hombre:\n",
    "      donacion = donacion_hombre.rvs()\n",
    "\n",
    "  donaciones.append(redondear(donacion))"
   ]
  },
  {
   "cell_type": "markdown",
   "metadata": {},
   "source": [
    "## 6. Salidas"
   ]
  },
  {
   "cell_type": "markdown",
   "metadata": {},
   "source": [
    "### ¿Obtenga la función de incertidumbre (histograma) de la contribución que la Heart Association puede esperar recibir cuando alguien abre la puerta?"
   ]
  },
  {
   "cell_type": "code",
   "execution_count": 73,
   "metadata": {},
   "outputs": [
    {
     "data": {
      "image/png": "[encoded data removed]",
      "text/plain": [
       "<Figure size 1000x500 with 1 Axes>"
      ]
     },
     "metadata": {},
     "output_type": "display_data"
    }
   ],
   "source": [
    "# Generar histograma\n",
    "plt.figure(figsize=(10, 5))\n",
    "plt.hist(donaciones, bins=50, density=True, alpha=0.6, color='b', edgecolor='black')\n",
    "\n",
    "# Etiquetas\n",
    "plt.xlabel('Monto de Donación ($)')\n",
    "plt.ylabel('Frecuencia absoluta')\n",
    "plt.title('Histograma de la distribución de donaciones')\n",
    "plt.grid(axis='y', linestyle='--', alpha=0.7)\n",
    "\n",
    "# Mostrar histograma\n",
    "plt.show()"
   ]
  },
  {
   "cell_type": "markdown",
   "metadata": {},
   "source": [
    "### ¿Cuál es la contribución promedio que la Heart Association puede esperar recibir cuando alguien abre la puerta? "
   ]
  },
  {
   "cell_type": "code",
   "execution_count": 76,
   "metadata": {},
   "outputs": [
    {
     "name": "stdout",
     "output_type": "stream",
     "text": [
      "Probabilidad de contribución: 64.19%\n",
      "Contribución promedio: $12.03\n",
      "Desviación estándar de la contribución: $9.66\n"
     ]
    }
   ],
   "source": [
    "probabilidad_contribucion = (len([x for x in donaciones if x > 0]) / simulaciones)*100\n",
    "contribucion_promedio = np.mean(donaciones)\n",
    "contribucion_desviacion = np.std(donaciones)\n",
    "\n",
    "print(f'Probabilidad de contribución: {redondear(probabilidad_contribucion)}%')\n",
    "print(f'Contribución promedio: ${redondear(contribucion_promedio)}')\n",
    "print(f'Desviación estándar de la contribución: ${redondear(contribucion_desviacion)}')"
   ]
  },
  {
   "cell_type": "markdown",
   "metadata": {},
   "source": [
    "### Suponga que la Asociación del Corazón planea visitar 300 hogares un sábado determinado. Si nadie está en casa en el 25% de las residencias, ¿cuál es el monto total que la Asociación del Corazón puede esperar recibir en donaciones?"
   ]
  },
  {
   "cell_type": "code",
   "execution_count": 78,
   "metadata": {},
   "outputs": [
    {
     "name": "stdout",
     "output_type": "stream",
     "text": [
      "Hogares abren la puerta: 225.0\n",
      "Monto recaudado: $2707.71\n"
     ]
    }
   ],
   "source": [
    "hogares_visitados = 300\n",
    "nadie_en_casa = 0.25\n",
    "\n",
    "hogares_abren_puerta = hogares_visitados * (1 - nadie_en_casa)\n",
    "\n",
    "monto_recaudado = contribucion_promedio * hogares_abren_puerta\n",
    "\n",
    "print(f'Hogares abren la puerta: {hogares_abren_puerta}')\n",
    "print(f'Monto recaudado: ${redondear(monto_recaudado)}')"
   ]
  },
  {
   "cell_type": "markdown",
   "metadata": {},
   "source": [
    "### ¿Cuál es la probabilidad de que la contribución cuando alguien abra la puerta sea superior $21?"
   ]
  },
  {
   "cell_type": "code",
   "execution_count": 82,
   "metadata": {},
   "outputs": [
    {
     "name": "stdout",
     "output_type": "stream",
     "text": [
      "Probabilidad de contribución superior a $21 (P(D>21)): 20.83%\n"
     ]
    }
   ],
   "source": [
    "probabilidad_mayor_21 = (len([x for x in donaciones if x > 21]) / simulaciones) * 100\n",
    "print(f'Probabilidad de contribución superior a $21 (P(D>21)): {redondear(probabilidad_mayor_21)}%')"
   ]
  }
 ],
 "metadata": {
  "kernelspec": {
   "display_name": "myse_env",
   "language": "python",
   "name": "python3"
  },
  "language_info": {
   "codemirror_mode": {
    "name": "ipython",
    "version": 3
   },
   "file_extension": ".py",
   "mimetype": "text/x-python",
   "name": "python",
   "nbconvert_exporter": "python",
   "pygments_lexer": "ipython3",
   "version": "3.12.6"
  }
 },
 "nbformat": 4,
 "nbformat_minor": 2
}
