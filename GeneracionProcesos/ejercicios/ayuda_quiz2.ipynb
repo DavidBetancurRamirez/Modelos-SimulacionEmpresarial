{
 "cells": [
  {
   "cell_type": "markdown",
   "metadata": {},
   "source": [
    "# Ejercicio de ayuda para el quiz #2\n",
    "\n",
    "## Producción diaria\n",
    "La producción diaria de un articulo se distribuye triangularmente (4500, 6000, 9000) . La fracción defectuosa cada dia, P, se distribuye segun la siguiente fdp:\n",
    "\n",
    "<pre>\n",
    "    f(P) = 99(1-P)^98 , 0<=P<=1\n",
    "</pre>\n",
    "\n",
    "Estimar la producción neta diaria: **P(und_def > 150) = n**"
   ]
  },
  {
   "cell_type": "markdown",
   "metadata": {},
   "source": [
    "### 1. Librerias necesarias"
   ]
  },
  {
   "cell_type": "code",
   "execution_count": 94,
   "metadata": {},
   "outputs": [],
   "source": [
    "from scipy.stats import triang, binom, describe\n",
    "import math\n",
    "import numpy as np"
   ]
  },
  {
   "cell_type": "markdown",
   "metadata": {},
   "source": [
    "### 2. Entradas conocidas"
   ]
  },
  {
   "cell_type": "code",
   "execution_count": 95,
   "metadata": {},
   "outputs": [],
   "source": [
    "# [min, max, moda]\n",
    "distribucion = np.array([4500, 9000, 6000])\n",
    "\n",
    "trials = 100000"
   ]
  },
  {
   "cell_type": "code",
   "execution_count": 96,
   "metadata": {},
   "outputs": [],
   "source": [
    "def funcion_objetivo(R):\n",
    "  return 1 - np.power(1-R, 1/99)"
   ]
  },
  {
   "cell_type": "markdown",
   "metadata": {},
   "source": [
    "### 3. Entradas inciertas"
   ]
  },
  {
   "cell_type": "code",
   "execution_count": 97,
   "metadata": {},
   "outputs": [],
   "source": [
    "def get_random_triangular(array):\n",
    "  a, b, c = array  # Mínimo, Máximo, Moda\n",
    "  c_scaled = (c - a) / (b - a)  # Convertir moda a la escala de scipy\n",
    "  return triang.rvs(c_scaled, loc=a, scale=(b - a))"
   ]
  },
  {
   "cell_type": "markdown",
   "metadata": {},
   "source": [
    "### 4. Calculos intermedios"
   ]
  },
  {
   "cell_type": "code",
   "execution_count": 98,
   "metadata": {},
   "outputs": [],
   "source": [
    "prod_neta = []\n",
    "prod_mala = []\n",
    "\n",
    "for _ in range(trials):\n",
    "  prod_bruta = math.ceil(get_random_triangular(distribucion))\n",
    "\n",
    "  random = np.random.uniform()\n",
    "  pd = funcion_objetivo(random)\n",
    "\n",
    "  prod_defectuosa = binom.rvs(n=prod_bruta, p=pd)\n",
    "\n",
    "  prod_neta.append(prod_bruta - prod_defectuosa)\n",
    "  prod_mala.append(prod_defectuosa)"
   ]
  },
  {
   "cell_type": "markdown",
   "metadata": {},
   "source": [
    "### 5. Salida"
   ]
  },
  {
   "cell_type": "markdown",
   "metadata": {},
   "source": [
    "#### Estadistica Descriptiva"
   ]
  },
  {
   "cell_type": "code",
   "execution_count": 99,
   "metadata": {},
   "outputs": [
    {
     "name": "stdout",
     "output_type": "stream",
     "text": [
      "DescribeResult(nobs=100000, minmax=(np.int64(4336), np.int64(8971)), mean=np.float64(6434.92607), variance=np.float64(860027.6398007532), skewness=np.float64(0.30165326292571537), kurtosis=np.float64(-0.6028380046937811))\n",
      "DescribeResult(nobs=100000, minmax=(np.int64(0), np.int64(763)), mean=np.float64(65.09266), variance=np.float64(4406.581139935799), skewness=np.float64(2.0660213508013032), kurtosis=np.float64(6.522966306588039))\n"
     ]
    }
   ],
   "source": [
    "# Obtener la estadística descriptiva completa de prod_neta\n",
    "estadisticas_prod_neta = describe(prod_neta)\n",
    "print(estadisticas_prod_neta)\n",
    "\n",
    "# Obtener la estadística descriptiva completa de prod_mala\n",
    "estadisticas_prod_mala = describe(prod_mala)\n",
    "print(estadisticas_prod_mala)"
   ]
  },
  {
   "cell_type": "markdown",
   "metadata": {},
   "source": [
    "#### Probabilidad"
   ]
  },
  {
   "cell_type": "code",
   "execution_count": 100,
   "metadata": {},
   "outputs": [
    {
     "name": "stdout",
     "output_type": "stream",
     "text": [
      "0.10132\n"
     ]
    }
   ],
   "source": [
    "# Probabilidad de que la producción mala sea mayor a 150\n",
    "probabilidad = sum([1 for x in prod_mala if x > 150]) / trials\n",
    "print(probabilidad)"
   ]
  }
 ],
 "metadata": {
  "kernelspec": {
   "display_name": "myse_env",
   "language": "python",
   "name": "python3"
  },
  "language_info": {
   "codemirror_mode": {
    "name": "ipython",
    "version": 3
   },
   "file_extension": ".py",
   "mimetype": "text/x-python",
   "name": "python",
   "nbconvert_exporter": "python",
   "pygments_lexer": "ipython3",
   "version": "3.12.6"
  }
 },
 "nbformat": 4,
 "nbformat_minor": 2
}
