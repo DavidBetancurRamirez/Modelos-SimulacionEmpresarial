{
 "cells": [
  {
   "cell_type": "markdown",
   "metadata": {},
   "source": [
    "# Ejercicio de ayuda para el quiz #2\n",
    "\n",
    "## Producción diaria\n",
    "La producción diaria de un articulo se distribuye triangularmente (4500, 6000, 9000) . La fracción defectuosa cada dia, P, se distribuye segun la siguiente fdp:\n",
    "\n",
    "<pre>\n",
    "    f(P) = 99(1-P)^98 , 0<=P<=1\n",
    "</pre>\n",
    "\n",
    "Estimar la producción neta diaria: **P(und_def > 150) = n**"
   ]
  },
  {
   "cell_type": "markdown",
   "metadata": {},
   "source": [
    "### 1. Librerias necesarias"
   ]
  },
  {
   "cell_type": "code",
   "execution_count": 1,
   "metadata": {},
   "outputs": [],
   "source": [
    "from scipy import stats\n",
    "import numpy as np"
   ]
  },
  {
   "cell_type": "markdown",
   "metadata": {},
   "source": [
    "## 2. Verificar que el numero de reclamaciones por semana son Poisson"
   ]
  },
  {
   "cell_type": "code",
   "execution_count": 2,
   "metadata": {},
   "outputs": [],
   "source": [
    "# Datos observados\n",
    "reclamos = np.array([1, 2, 3, 4, 5, 6, 7, 8, 9])\n",
    "f_relativa = np.array([0.05, 0.06, 0.1, 0.17, 0.28, 0.14, 0.08, 0.07, 0.05])\n",
    "\n",
    "# Supuesto del tamaño de la muestra\n",
    "n = 100"
   ]
  },
  {
   "cell_type": "code",
   "execution_count": 3,
   "metadata": {},
   "outputs": [
    {
     "name": "stdout",
     "output_type": "stream",
     "text": [
      "Parámetro MLE de Poisson: 4.960000000000001\n"
     ]
    }
   ],
   "source": [
    "# Calcular el parámetro MLE de Poisson\n",
    "lambda_mle = np.sum(reclamos * f_relativa)\n",
    "print(f\"Parámetro MLE de Poisson: {lambda_mle}\")"
   ]
  },
  {
   "cell_type": "code",
   "execution_count": 4,
   "metadata": {},
   "outputs": [],
   "source": [
    "# Calcular la distribución con Lambda MLE\n",
    "poisson_teorica = stats.poisson.pmf(reclamos, lambda_mle)"
   ]
  },
  {
   "cell_type": "code",
   "execution_count": 5,
   "metadata": {},
   "outputs": [
    {
     "name": "stdout",
     "output_type": "stream",
     "text": [
      "Frecuencia observada: [ 5.  6. 10. 17. 28. 14.  8.  7.  5.]\n",
      "Frecuencia esperada: [ 3.4784122   8.62646227 14.26241762 17.68539784 17.54391466 14.50296945\n",
      " 10.27638978  6.37136167  3.51132821]\n"
     ]
    }
   ],
   "source": [
    "f_observada = f_relativa * n\n",
    "print(f\"Frecuencia observada: {f_observada}\")\n",
    "\n",
    "f_esperada = poisson_teorica * n\n",
    "print(f\"Frecuencia esperada: {f_esperada}\")"
   ]
  },
  {
   "cell_type": "code",
   "execution_count": 6,
   "metadata": {},
   "outputs": [],
   "source": [
    "def agrupar_clases(f_observada, f_esperada, umbral=5):\n",
    "    f_obs_agrupada = []\n",
    "    f_esp_agrupada = []\n",
    "\n",
    "    temp_obs = f_observada[0]\n",
    "    temp_esp = f_esperada[0]\n",
    "\n",
    "    # Agrupar hacia adelante\n",
    "    for i in range(1, len(f_observada)):\n",
    "        if temp_esp < umbral:\n",
    "            temp_obs += f_observada[i]\n",
    "            temp_esp += f_esperada[i]\n",
    "        else:\n",
    "            f_obs_agrupada.append(temp_obs)\n",
    "            f_esp_agrupada.append(temp_esp)\n",
    "            temp_obs = f_observada[i]\n",
    "            temp_esp = f_esperada[i]\n",
    "\n",
    "    f_obs_agrupada.append(temp_obs)\n",
    "    f_esp_agrupada.append(temp_esp)\n",
    "\n",
    "    # Si el último valor es menor que el umbral, agrupar hacia atrás\n",
    "    while len(f_obs_agrupada) > 1 and f_esp_agrupada[-1] < umbral:\n",
    "        f_obs_agrupada[-2] += f_obs_agrupada[-1]\n",
    "        f_esp_agrupada[-2] += f_esp_agrupada[-1]\n",
    "        f_obs_agrupada.pop()\n",
    "        f_esp_agrupada.pop()\n",
    "\n",
    "    return np.array(f_obs_agrupada), np.array(f_esp_agrupada)"
   ]
  },
  {
   "cell_type": "code",
   "execution_count": 7,
   "metadata": {},
   "outputs": [
    {
     "name": "stdout",
     "output_type": "stream",
     "text": [
      "Frecuencia observada agrupada: [11. 10. 17. 28. 14.  8. 12.]\n",
      "Frecuencia esperada agrupada: [12.10487447 14.26241762 17.68539784 17.54391466 14.50296945 10.27638978\n",
      "  9.88268987]\n"
     ]
    }
   ],
   "source": [
    "# Agrupar clases\n",
    "f_observada_agrupada_1 = np.array([f_observada[0]+f_observada[1], f_observada[2], f_observada[3], f_observada[4], f_observada[5], f_observada[6], f_observada[7]+f_observada[8]])\n",
    "f_esperada_agrupada_2 = np.array([f_esperada[0]+f_esperada[1], f_esperada[2], f_esperada[3], f_esperada[4], f_esperada[5], f_esperada[6], f_esperada[7]+f_esperada[8]])\n",
    "print(f\"Frecuencia observada agrupada: {f_observada_agrupada_1}\")\n",
    "print(f\"Frecuencia esperada agrupada: {f_esperada_agrupada_2}\")"
   ]
  },
  {
   "cell_type": "code",
   "execution_count": 8,
   "metadata": {},
   "outputs": [
    {
     "name": "stdout",
     "output_type": "stream",
     "text": [
      "Frecuencia observada agrupada: [11. 10. 17. 28. 14.  8. 12.]\n",
      "Frecuencia esperada agrupada: [12.10487447 14.26241762 17.68539784 17.54391466 14.50296945 10.27638978\n",
      "  9.88268987]\n"
     ]
    }
   ],
   "source": [
    "# Agrupar clases\n",
    "f_observada_agrupada, f_esperada_agrupada = agrupar_clases(f_observada, f_esperada)\n",
    "print(f\"Frecuencia observada agrupada: {f_observada_agrupada}\")\n",
    "print(f\"Frecuencia esperada agrupada: {f_esperada_agrupada}\")"
   ]
  },
  {
   "cell_type": "code",
   "execution_count": 9,
   "metadata": {},
   "outputs": [
    {
     "data": {
      "text/plain": [
       "Power_divergenceResult(statistic=np.float64(8.608359107961459), pvalue=np.float64(0.28200994095474113))"
      ]
     },
     "execution_count": 9,
     "metadata": {},
     "output_type": "execute_result"
    }
   ],
   "source": [
    "# Realizar la prueba\n",
    "stats.chisquare(f_observada_agrupada, f_esperada_agrupada, ddof=-1, sum_check=False)"
   ]
  }
 ],
 "metadata": {
  "kernelspec": {
   "display_name": "myse_env",
   "language": "python",
   "name": "python3"
  },
  "language_info": {
   "codemirror_mode": {
    "name": "ipython",
    "version": 3
   },
   "file_extension": ".py",
   "mimetype": "text/x-python",
   "name": "python",
   "nbconvert_exporter": "python",
   "pygments_lexer": "ipython3",
   "version": "3.12.6"
  }
 },
 "nbformat": 4,
 "nbformat_minor": 2
}
