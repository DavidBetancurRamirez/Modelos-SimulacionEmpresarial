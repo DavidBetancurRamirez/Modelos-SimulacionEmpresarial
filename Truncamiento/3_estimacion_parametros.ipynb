{
 "cells": [
  {
   "cell_type": "markdown",
   "metadata": {},
   "source": [
    "## <center>3. Estimación de Parámetros en Modelos Truncados</center>\n",
    "\n",
    "Cuando trabajamos con datos truncados, **NO podemos usar métodos tradicionales** como la media y la desviación estándar directamente, ya que los valores fuera del rango truncado no están presentes en la muestra. Esto introduce un sesgo en la estimación de parámetros."
   ]
  },
  {
   "cell_type": "markdown",
   "metadata": {},
   "source": [
    "### 3.1. Librerias utilizadas"
   ]
  },
  {
   "cell_type": "code",
   "execution_count": null,
   "metadata": {},
   "outputs": [],
   "source": [
    "import matplotlib.pyplot as plt\n",
    "import numpy as np\n",
    "import pymc as pm\n",
    "import scipy.optimize as opt\n",
    "import scipy.stats as stats"
   ]
  },
  {
   "cell_type": "markdown",
   "metadata": {},
   "source": [
    "### 3.2. Métodos para la Estimación de Parámetros"
   ]
  },
  {
   "cell_type": "markdown",
   "metadata": {},
   "source": [
    "#### 3.2.1. Metodo de Maxima Verosimilitud (MLE)\n",
    "Es un método estadístico que encuentra los parámetros que maximizan la probabilidad de observar los datos dados. Se basa en la función de verosimilitud, que mide qué tan probable es obtener los datos observados para diferentes valores de los parámetros del modelo."
   ]
  },
  {
   "cell_type": "markdown",
   "metadata": {},
   "source": [
    "Función de estimacion por el método de maxima verosimilitud"
   ]
  },
  {
   "cell_type": "code",
   "execution_count": 20,
   "metadata": {},
   "outputs": [],
   "source": [
    "def log_likelihood(params, data, a, b):\n",
    "  mu, sigma = params\n",
    "  if sigma <= 0:\n",
    "    return np.inf  # Penalización por valores no válidos\n",
    "\n",
    "  ll = np.sum(stats.truncnorm.logpdf(\n",
    "    data, (a - mu) / sigma, (b - mu) / sigma, loc=mu, scale=sigma\n",
    "  ))\n",
    "  return -ll  # Se minimiza la función negativa"
   ]
  },
  {
   "cell_type": "markdown",
   "metadata": {},
   "source": [
    "#### 3.2.2. Método de Momentos (MoM)\n",
    "El método de momentos es otra opción para estimar los parámetros de una distribución. En este caso, igualamos los momentos teóricos de la distribución truncada con los momentos muestrales y resolvemos para los parámetros desconocidos."
   ]
  },
  {
   "cell_type": "markdown",
   "metadata": {},
   "source": [
    "Función de estimacion por el método de momentos"
   ]
  },
  {
   "cell_type": "code",
   "execution_count": null,
   "metadata": {},
   "outputs": [],
   "source": [
    "def moments_equations(params, data, a, b):\n",
    "  mu, sigma = params\n",
    "  alpha, beta = (a - mu) / sigma, (b - mu) / sigma\n",
    "  Z = stats.norm.cdf(beta) - stats.norm.cdf(alpha)\n",
    "  mean_theoretical = mu + (stats.norm.pdf(alpha) - stats.norm.pdf(beta)) * sigma / Z\n",
    "  var_theoretical = sigma**2 * (1 + (alpha * stats.norm.pdf(alpha) - beta * stats.norm.pdf(beta)) / Z - ((stats.norm.pdf(alpha) - stats.norm.pdf(beta)) / Z) ** 2)\n",
    "  return [np.mean(data) - mean_theoretical, np.var(data) - var_theoretical]"
   ]
  },
  {
   "cell_type": "markdown",
   "metadata": {},
   "source": [
    "#### 3.2.3. Método de Inferencia Bayesiana\n",
    "El método de Inferencia Bayesiana permite estimar los parámetros incorporando una distribución previa sobre ellos y actualizándola con los datos observados."
   ]
  },
  {
   "cell_type": "markdown",
   "metadata": {},
   "source": [
    "Función de estimacion por el método de Inferencia Bayesiana"
   ]
  },
  {
   "cell_type": "code",
   "execution_count": 30,
   "metadata": {},
   "outputs": [],
   "source": [
    "def bayesian_inference(data, a, b):\n",
    "  # Asegurar que no se modifiquen los datos originales\n",
    "  data_copy = np.copy(data)\n",
    "\n",
    "  with pm.Model() as model:\n",
    "    mu = pm.Normal(\"mu\", mu=5, sigma=2)  # Prior para mu\n",
    "    sigma = pm.HalfNormal(\"sigma\", sigma=2)  # Prior para sigma\n",
    "\n",
    "    # Distribución truncada para los datos\n",
    "    likelihood = pm.TruncatedNormal(\"likelihood\", mu=mu, sigma=sigma, lower=a, upper=b, observed=data_copy)\n",
    "\n",
    "    trace = pm.sample(2000, tune=1000, return_inferencedata=True)\n",
    "\n",
    "  mu_est_bayes = trace.posterior[\"mu\"].mean().item()\n",
    "  sigma_est_bayes = trace.posterior[\"sigma\"].mean().item()\n",
    "\n",
    "  return mu_est_bayes, sigma_est_bayes, trace"
   ]
  },
  {
   "cell_type": "code",
   "execution_count": null,
   "metadata": {},
   "outputs": [],
   "source": [
    "usar_metodo_bayesiano = False"
   ]
  },
  {
   "cell_type": "markdown",
   "metadata": {},
   "source": [
    "### 3.3. Comparación Metodos para la estimacion de parámetros"
   ]
  },
  {
   "cell_type": "markdown",
   "metadata": {},
   "source": [
    "#### 3.3.1. Generar datos simulados de una distribución normal truncada"
   ]
  },
  {
   "cell_type": "code",
   "execution_count": 22,
   "metadata": {},
   "outputs": [],
   "source": [
    "# Semilla para reproducibilidad\n",
    "np.random.seed(42)\n",
    "\n",
    "# límites de truncamiento\n",
    "a, b = 0, 10\n",
    "\n",
    "# parámetros reales\n",
    "mu_real, sigma_real = 5, 1.5\n",
    "\n",
    "# datos generados\n",
    "data = stats.truncnorm.rvs(\n",
    "    (a - mu_real) / sigma_real, (b - mu_real) / sigma_real,\n",
    "    loc=mu_real, scale=sigma_real, size=1000\n",
    ")"
   ]
  },
  {
   "cell_type": "markdown",
   "metadata": {},
   "source": [
    "#### 3.3.2. Estimación por Máxima Verosimilitud"
   ]
  },
  {
   "cell_type": "code",
   "execution_count": 23,
   "metadata": {},
   "outputs": [],
   "source": [
    "initial_guess = [np.mean(data), np.std(data)]\n",
    "result = opt.minimize(log_likelihood, initial_guess, args=(data, a, b))\n",
    "mu_est_mle, sigma_est_mle = result.x"
   ]
  },
  {
   "cell_type": "markdown",
   "metadata": {},
   "source": [
    "#### 3.3.3. Estimación por el Método de Momentos"
   ]
  },
  {
   "cell_type": "code",
   "execution_count": 24,
   "metadata": {},
   "outputs": [],
   "source": [
    "mom_result = opt.root(moments_equations, initial_guess, args=(data, a, b))\n",
    "mu_est_mom, sigma_est_mom = mom_result.x"
   ]
  },
  {
   "cell_type": "markdown",
   "metadata": {},
   "source": [
    "#### 3.3.4. Estimación por el Método de Inferencia Bayesiana"
   ]
  },
  {
   "cell_type": "code",
   "execution_count": null,
   "metadata": {},
   "outputs": [
    {
     "name": "stderr",
     "output_type": "stream",
     "text": [
      "Initializing NUTS using jitter+adapt_diag...\n",
      "Multiprocess sampling (4 chains in 4 jobs)\n",
      "NUTS: [mu, sigma]\n"
     ]
    },
    {
     "data": {
      "application/vnd.jupyter.widget-view+json": {
       "model_id": "66fcfa28251b40da80ab9b3451b62d10",
       "version_major": 2,
       "version_minor": 0
      },
      "text/plain": [
       "Output()"
      ]
     },
     "metadata": {},
     "output_type": "display_data"
    },
    {
     "data": {
      "text/html": [
       "<pre style=\"white-space:pre;overflow-x:auto;line-height:normal;font-family:Menlo,'DejaVu Sans Mono',consolas,'Courier New',monospace\"></pre>\n"
      ],
      "text/plain": []
     },
     "metadata": {},
     "output_type": "display_data"
    },
    {
     "name": "stderr",
     "output_type": "stream",
     "text": [
      "Sampling 4 chains for 1_000 tune and 718 draw iterations (4_000 + 2_872 draws total) took 443 seconds.\n"
     ]
    }
   ],
   "source": [
    "if usar_metodo_bayesiano:\n",
    "  mu_est_bayes, sigma_est_bayes, trace = bayesian_inference(data, a, b)\n",
    "else:\n",
    "  print(\"No se ha realizado inferencia bayesiana\")"
   ]
  },
  {
   "cell_type": "markdown",
   "metadata": {},
   "source": [
    "#### 3.3.5. Comparación con los coeficientes verdaderos"
   ]
  },
  {
   "cell_type": "code",
   "execution_count": 33,
   "metadata": {},
   "outputs": [
    {
     "name": "stdout",
     "output_type": "stream",
     "text": [
      "Parámetros reales: mu = 5, sigma = 1.5\n",
      "Estimaciones MLE: mu = 4.9518, sigma = 1.4980\n",
      "Estimaciones MoM: mu = 4.9518, sigma = 1.4980\n",
      "Estimaciones Bayes: mu = 4.9524, sigma = 1.5006\n"
     ]
    }
   ],
   "source": [
    "print(f\"Parámetros reales: mu = {mu_real}, sigma = {sigma_real}\")\n",
    "print(f\"Estimaciones MLE: mu = {mu_est_mle:.4f}, sigma = {sigma_est_mle:.4f}\")\n",
    "print(f\"Estimaciones MoM: mu = {mu_est_mom:.4f}, sigma = {sigma_est_mom:.4f}\")\n",
    "\n",
    "if usar_metodo_bayesiano:\n",
    "  print(f\"Estimaciones Bayes: mu = {mu_est_bayes:.4f}, sigma = {sigma_est_bayes:.4f}\")\n",
    "else:\n",
    "  print(\"Estimaciones Bayes: No calculadas\")"
   ]
  },
  {
   "cell_type": "markdown",
   "metadata": {},
   "source": [
    "#### 3.3.6. Visualización de la distribución"
   ]
  },
  {
   "cell_type": "code",
   "execution_count": 34,
   "metadata": {},
   "outputs": [
    {
     "data": {
      "image/png": "[encoded data removed]",
      "text/plain": [
       "<Figure size 640x480 with 1 Axes>"
      ]
     },
     "metadata": {},
     "output_type": "display_data"
    }
   ],
   "source": [
    "x = np.linspace(a, b, 100)\n",
    "real_pdf = stats.truncnorm.pdf(x, (a - mu_real) / sigma_real, (b - mu_real) / sigma_real, loc=mu_real, scale=sigma_real)\n",
    "est_pdf_mle = stats.truncnorm.pdf(x, (a - mu_est_mle) / sigma_est_mle, (b - mu_est_mle) / sigma_est_mle, loc=mu_est_mle, scale=sigma_est_mle)\n",
    "est_pdf_mom = stats.truncnorm.pdf(x, (a - mu_est_mom) / sigma_est_mom, (b - mu_est_mom) / sigma_est_mom, loc=mu_est_mom, scale=sigma_est_mom)\n",
    "\n",
    "if usar_metodo_bayesiano:\n",
    "  est_pdf_bayes = stats.truncnorm.pdf(x, (a - mu_est_bayes) / sigma_est_bayes, (b - mu_est_bayes) / sigma_est_bayes, loc=mu_est_bayes, scale=sigma_est_bayes)\n",
    "\n",
    "plt.hist(data, bins=30, density=True, alpha=0.6, label=\"Datos simulados\")\n",
    "plt.plot(x, real_pdf, 'r-', label=\"Distribución real\")\n",
    "plt.plot(x, est_pdf_mle, 'b--', label=\"Estimación MLE\")\n",
    "plt.plot(x, est_pdf_mom, 'g-.', label=\"Estimación MoM\")\n",
    "\n",
    "if usar_metodo_bayesiano:\n",
    "  plt.plot(x, est_pdf_bayes, 'm:', label=\"Estimación Bayesiana\")\n",
    "\n",
    "plt.legend()\n",
    "plt.xlabel(\"Valor\")\n",
    "plt.ylabel(\"Densidad\")\n",
    "plt.title(\"Comparación de distribuciones\")\n",
    "plt.show()"
   ]
  },
  {
   "cell_type": "markdown",
   "metadata": {},
   "source": [
    "### 3.4. Conclusion"
   ]
  },
  {
   "cell_type": "markdown",
   "metadata": {},
   "source": [
    "*Resultados*\n",
    "\n",
    "**Parámetros reales:** `mu = 5, sigma = 1.5`\n",
    "\n",
    "**Estimaciones MLE:** `mu = 4.9518, sigma = 1.4980`\n",
    "\n",
    "**Estimaciones MoM:** `mu = 4.9518, sigma = 1.4980`\n",
    "\n",
    "**Estimaciones Bayes:** `mu = 4.9524, sigma = 1.5006`"
   ]
  },
  {
   "cell_type": "markdown",
   "metadata": {},
   "source": [
    "En este caso, los métodos de **Máxima Verosimilitud (MLE)** y **Método de Momentos (MoM)** arrojaron exactamente los mismos valores para los parámetros estimados, mu (μ) y sigma (𝜎), lo que indica que ambos métodos fueron igualmente efectivos en la recuperación de los valores reales.\n",
    "\n",
    "Por otro lado, la **Inferencia Bayesiana** también obtuvo estimaciones muy cercanas a los valores verdaderos, con una ligera mejora en la precisión. Sin embargo, la diferencia con respecto a MLE y MoM no fue significativa en este escenario.\n",
    "\n",
    "En términos generales, *MLE es el método más utilizado debido a su eficiencia y buenas propiedades estadísticas*. No obstante, la Inferencia Bayesiana es una alternativa poderosa cuando se desea incorporar información previa o cuando la incertidumbre en la estimación es un factor clave, aunque suele requerir más tiempo de cómputo."
   ]
  }
 ],
 "metadata": {
  "kernelspec": {
   "display_name": "myse_env",
   "language": "python",
   "name": "python3"
  },
  "language_info": {
   "codemirror_mode": {
    "name": "ipython",
    "version": 3
   },
   "file_extension": ".py",
   "mimetype": "text/x-python",
   "name": "python",
   "nbconvert_exporter": "python",
   "pygments_lexer": "ipython3",
   "version": "3.12.6"
  }
 },
 "nbformat": 4,
 "nbformat_minor": 2
}
